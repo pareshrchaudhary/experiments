{
 "cells": [
  {
   "cell_type": "markdown",
   "metadata": {},
   "source": [
    "# Estimating f() using g() parameterized by z"
   ]
  },
  {
   "cell_type": "code",
   "execution_count": 1,
   "metadata": {},
   "outputs": [],
   "source": [
    "import numpy as np\n",
    "\n",
    "def f(x):\n",
    "    return x**2\n",
    "\n",
    "def g(x, z):\n",
    "    return x**z\n",
    "\n",
    "def gradient(fn=None, point=0, samples=None):\n",
    "    epsilon = 1e-5\n",
    "    grad = (fn(point+epsilon, samples) - fn(point, samples)) / epsilon # finite differences\n",
    "    return grad"
   ]
  },
  {
   "cell_type": "markdown",
   "metadata": {},
   "source": [
    "## As an supervised problem"
   ]
  },
  {
   "cell_type": "code",
   "execution_count": 2,
   "metadata": {},
   "outputs": [
    {
     "name": "stdout",
     "output_type": "stream",
     "text": [
      "Estimated parameter z: 1.0010834738516443\n",
      "Estimated parameter z: 1.521780168707924\n",
      "Estimated parameter z: 1.7137839621510382\n",
      "Estimated parameter z: 1.816582606432618\n",
      "Estimated parameter z: 1.878497548517794\n",
      "Estimated parameter z: 1.9179828985019056\n",
      "Estimated parameter z: 1.943992441664986\n",
      "Estimated parameter z: 1.9614681830785998\n",
      "Estimated parameter z: 1.9733601792092224\n",
      "Estimated parameter z: 1.9815205925441315\n"
     ]
    }
   ],
   "source": [
    "def mse(z, samples):\n",
    "    return np.mean([(f(x) - g(x, z))**2 for x in samples])\n",
    "\n",
    "np.random.seed(0)\n",
    "samples = np.random.uniform(0.1, 1.0, 100)\n",
    "\n",
    "z = 1.0  # guess\n",
    "learning_rate = 0.01\n",
    "\n",
    "# Gradient descent\n",
    "for idx in range(10000):\n",
    "    grad = gradient(fn=mse, point=z, samples=samples)\n",
    "    z -= learning_rate * grad  \n",
    "    if idx % 1000 == 0: print(f\"Estimated parameter z: {z}\") "
   ]
  },
  {
   "cell_type": "markdown",
   "metadata": {},
   "source": [
    "## As an RL problem"
   ]
  },
  {
   "cell_type": "code",
   "execution_count": 3,
   "metadata": {},
   "outputs": [
    {
     "name": "stdout",
     "output_type": "stream",
     "text": [
      "Estimated parameter z: 1.0010834738516443\n",
      "Estimated parameter z: 1.521780168707924\n",
      "Estimated parameter z: 1.7137839621510382\n",
      "Estimated parameter z: 1.816582606432618\n",
      "Estimated parameter z: 1.878497548517794\n",
      "Estimated parameter z: 1.9179828985019056\n",
      "Estimated parameter z: 1.943992441664986\n",
      "Estimated parameter z: 1.9614681830785998\n",
      "Estimated parameter z: 1.9733601792092224\n",
      "Estimated parameter z: 1.9815205925441315\n"
     ]
    }
   ],
   "source": [
    "def compute_reward(z, samples):\n",
    "    mse = np.mean([(f(x) - g(x, z))**2 for x in samples])\n",
    "    return -mse  # Negative MSE as reward\n",
    "\n",
    "np.random.seed(0)\n",
    "samples = np.random.uniform(0.1, 1.0, 100)\n",
    "\n",
    "z = 1.0  # guess\n",
    "learning_rate = 0.01\n",
    "\n",
    "for episode in range(10000):\n",
    "    grad = gradient(fn=compute_reward, point=z, samples=samples)\n",
    "    z += learning_rate * grad  # Gradient ascent to maximize reward\n",
    "    if episode % 1000 == 0:\n",
    "        print(f\"Estimated parameter z: {z}\")"
   ]
  }
 ],
 "metadata": {
  "kernelspec": {
   "display_name": "exp",
   "language": "python",
   "name": "python3"
  },
  "language_info": {
   "codemirror_mode": {
    "name": "ipython",
    "version": 3
   },
   "file_extension": ".py",
   "mimetype": "text/x-python",
   "name": "python",
   "nbconvert_exporter": "python",
   "pygments_lexer": "ipython3",
   "version": "3.12.4"
  }
 },
 "nbformat": 4,
 "nbformat_minor": 2
}
