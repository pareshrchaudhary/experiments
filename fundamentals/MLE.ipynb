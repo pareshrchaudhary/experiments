{
  "nbformat": 4,
  "nbformat_minor": 0,
  "metadata": {
    "colab": {
      "provenance": [],
      "authorship_tag": "ABX9TyOcqurtf1wuyq07MZG47Zky",
      "include_colab_link": true
    },
    "kernelspec": {
      "name": "python3",
      "display_name": "Python 3"
    },
    "language_info": {
      "name": "python"
    }
  },
  "cells": [
    {
      "cell_type": "markdown",
      "metadata": {
        "id": "view-in-github",
        "colab_type": "text"
      },
      "source": [
        "<a href=\"https://colab.research.google.com/github/pareshrchaudhary/experiments/blob/main/fundamentals/MLE.ipynb\" target=\"_parent\"><img src=\"https://colab.research.google.com/assets/colab-badge.svg\" alt=\"Open In Colab\"/></a>"
      ]
    },
    {
      "cell_type": "markdown",
      "source": [
        "# Maximum Likelihood Estimation"
      ],
      "metadata": {
        "id": "dnn3SEMnltzH"
      }
    },
    {
      "cell_type": "markdown",
      "source": [
        "**Observation**: We have observed data $(X_1, X_2, \\ldots, X_n)$ which are drawn IID (Independently and Identically Distributed) from a probability distribution $f(x; \\theta)$, where $\\theta$ is a parameter and there exists some “true” value of this parameter denoted as $\\Theta=\\Theta^*$.\n",
        "\n",
        "**Likelihood Function**: The Likelihood function $L_n(\\theta)$ is defined as the product of all individual probabilities for each observed data point given the parameter $\\theta$:\n",
        "\n",
        "$L_n (\\Theta)=\\prod_{i=1}^{n} f(X_i;\\Theta) $\n",
        "\n",
        "**Log-Likelihood Function**: The Log-Likelihood function $l_n(\\theta)$ is then defined as the natural logarithm of the likelihood function:\n",
        "\n",
        "$l_n (\\Theta)=log(L_n (\\Theta))=\\sum_{i=1}^{n} log(f(X_i;\\Theta)) $\n",
        "\n",
        "Taking logarithm simplifies calculations and turns products into sums.\n",
        "\n",
        "**Maximum Likelihood Estimator** $MLE$: The Maximum Likelihood Estimator $(MLE)$ is then calculated by finding the value of theta that maximizes this log-likelihood function:\n",
        "\n",
        "$\\hat{\\Theta}_{MLE}=argmax_\\Theta l_n (\\Theta)$\n"
      ],
      "metadata": {
        "id": "yHADGWG2m9UE"
      }
    },
    {
      "cell_type": "code",
      "source": [
        "# @title 1) Observations: Function to simulate the number of customers arriving at a store\n",
        "import numpy as np\n",
        "import torch\n",
        "from torch.autograd import Variable\n",
        "import numpy.random as nprandom\n",
        "np.random.seed(0)  # for reproducibility\n",
        "\n",
        "def simulate_customer_counts(hour_count, avg_customers_per_hour):\n",
        "    \"\"\"\n",
        "    Simulates customer counts using Poisson distribution.\n",
        "    - P(X = k) = (lambda^k * e^(-lambda)) / k!\n",
        "    - hour_count: Number of hours to simulate\n",
        "    - avg_customers_per_hour: Average customers arriving per hour\n",
        "    - Returns simulated customer counts for each hour\n",
        "    \"\"\"\n",
        "    customer_counts = np.zeros(hour_count, dtype=int)\n",
        "\n",
        "    # Generate simulated customer counts for each hour\n",
        "    for hour in range(hour_count):\n",
        "        rate = avg_customers_per_hour  # Average rate of occurrence\n",
        "        count = 0  # Initialize the count of occurrences\n",
        "        probability = 1.0  # Initialize the probability of occurrence\n",
        "        exp_term = np.exp(-rate)  # Exponential term of the Poisson distribution\n",
        "\n",
        "        # Generate a Poisson-distributed random variable for each hour\n",
        "        while probability > exp_term:\n",
        "            count += 1  # Increment the count of occurrences\n",
        "            probability *= nprandom.rand()  # Generate a random number between 0 and 1\n",
        "        customer_counts[hour] = count - 1  # Store the simulated count for the current hour\n",
        "\n",
        "    return customer_counts\n",
        "\n",
        "# Generate synthetic data: number of customers arriving at the store for each hour\n",
        "hour_count = 10     # @param {type:\"int\"} Simulate for 24 hours (one day)\n",
        "avg_customers_per_hour_true = 50  # @param {type:\"int\"} True average number of customers per hour\n",
        "customer_counts = simulate_customer_counts(hour_count, avg_customers_per_hour_true)\n",
        "customer_counts_true = Variable(torch.tensor(customer_counts, dtype=torch.float32))\n",
        "print(\"customer_counts_true = {}\".format(customer_counts_true))"
      ],
      "metadata": {
        "colab": {
          "base_uri": "https://localhost:8080/"
        },
        "cellView": "form",
        "id": "tTXZTSZqsdO2",
        "outputId": "a4df9a47-6b68-4962-9708-1815497dc5dd"
      },
      "execution_count": 65,
      "outputs": [
        {
          "output_type": "stream",
          "name": "stdout",
          "text": [
            "customer_counts_true = tensor([55., 41., 61., 44., 51., 50., 42., 55., 43., 57.])\n"
          ]
        }
      ]
    },
    {
      "cell_type": "code",
      "source": [
        "# @title 2) Log-Likelihood Function\n",
        "# Log-likelihood function for Poisson distribution\n",
        "def log_likelihood(observed_customer_counts, avg_customers_per_hour):\n",
        "  '''\n",
        "    Poisson distribution formula: P(X = k) = (lambda^k * e^(-lambda)) / k!\n",
        "\n",
        "    Taking the logarithm:\n",
        "    log(P(X = k)) = log(lambda^k) + log(e^(-lambda)) - log(k!)\n",
        "\n",
        "    After applying logarithm properties:\n",
        "    log(P(X = k)) = k * log(lambda) + (-lambda) - log(k!)\n",
        "\n",
        "  '''\n",
        "  #  logarithm of the factorial of observed_customer_counts\n",
        "  log_factorial_customer_counts = torch.lgamma(observed_customer_counts + 1)\n",
        "\n",
        "  #  logarithm of the Poisson probability mass function (PMF)\n",
        "  log_poisson_pmf = observed_customer_counts * torch.log(avg_customers_per_hour) \\\n",
        "                    - avg_customers_per_hour - log_factorial_customer_counts\n",
        "\n",
        "  # Sum up the log probabilities to get the total log-likelihood\n",
        "  log_likelihood_value = torch.sum(log_poisson_pmf)\n",
        "\n",
        "  return -log_likelihood_value"
      ],
      "metadata": {
        "cellView": "form",
        "id": "2_e9x2j6bI7o"
      },
      "execution_count": 67,
      "outputs": []
    },
    {
      "cell_type": "code",
      "source": [
        "# @title 3) Maximum Likelihood Estimation\n",
        "\n",
        "# Initial guess for the parameter (average customers per hour)\n",
        "initial_guess = 30.0 # @param\n",
        "initial_guess = Variable(torch.tensor([initial_guess]), requires_grad=True)\n",
        "\n",
        "# Set the learning rate for gradient descent\n",
        "learning_rate = 0.1  # @param\n",
        "# Set the number of iterations for gradient descent\n",
        "num_iterations = 1000  # @param\n",
        "\n",
        "# Gradient descent optimization using PyTorch\n",
        "for i in range(num_iterations):\n",
        "    # Compute the gradient of the log-likelihood function with respect to the parameter\n",
        "    gradient = torch.autograd.grad(log_likelihood(initial_guess, customer_counts_true), initial_guess)[0]\n",
        "\n",
        "    # Update the parameter using the gradient descent update rule\n",
        "    initial_guess.data -= learning_rate * gradient.data\n",
        "\n",
        "# Extract the estimated parameter\n",
        "avg_customers_per_hour_estimate = initial_guess.data.item()\n",
        "\n",
        "print(\"Estimated average customers per hour:\", avg_customers_per_hour_estimate)"
      ],
      "metadata": {
        "colab": {
          "base_uri": "https://localhost:8080/"
        },
        "cellView": "form",
        "id": "Peous-pdgh-Z",
        "outputId": "5f2ae813-8648-4497-f1c4-c5023a0db045"
      },
      "execution_count": 75,
      "outputs": [
        {
          "output_type": "stream",
          "name": "stdout",
          "text": [
            "Estimated average customers per hour: 48.94633483886719\n"
          ]
        }
      ]
    }
  ]
}